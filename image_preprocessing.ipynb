{
  "nbformat": 4,
  "nbformat_minor": 0,
  "metadata": {
    "colab": {
      "provenance": []
    },
    "kernelspec": {
      "name": "python3",
      "display_name": "Python 3"
    },
    "language_info": {
      "name": "python"
    }
  },
  "cells": [
    {
      "cell_type": "code",
      "source": [
        "from google.colab import drive\n",
        "drive.mount('/content/drive')"
      ],
      "metadata": {
        "colab": {
          "base_uri": "https://localhost:8080/"
        },
        "id": "Nwz6aANfUoxc",
        "outputId": "8e939777-89c2-4d4d-a7d0-5bbd008b4bf4"
      },
      "execution_count": null,
      "outputs": [
        {
          "output_type": "stream",
          "name": "stdout",
          "text": [
            "Mounted at /content/drive\n"
          ]
        }
      ]
    },
    {
      "cell_type": "code",
      "source": [
        "import os\n",
        "import cv2\n",
        "import numpy as np\n",
        "from tqdm import tqdm\n",
        "\n",
        "\n",
        "train_path = \"/content/drive/My Drive/SKIN CANCER DATASET/Train\"\n",
        "test_path = \"/content/drive/My Drive/SKIN CANCER DATASET/Test\"\n",
        "\n",
        "\n",
        "output_path = \"/content/drive/My Drive/SKIN CANCER DATASET/preprocessed_images\"\n",
        "os.makedirs(output_path, exist_ok=True)\n",
        "\n",
        "\n",
        "def preprocess_image(img_path):\n",
        "    img = cv2.imread(img_path)\n",
        "    img = cv2.resize(img, (224, 224))\n",
        "\n",
        "    gray = cv2.cvtColor(img, cv2.COLOR_BGR2GRAY)\n",
        "    kernel = cv2.getStructuringElement(1, (17, 17))\n",
        "    blackhat = cv2.morphologyEx(gray, cv2.MORPH_BLACKHAT, kernel)\n",
        "    _, mask = cv2.threshold(blackhat, 10, 255, cv2.THRESH_BINARY)\n",
        "    result = cv2.inpaint(img, mask, 1, cv2.INPAINT_TELEA)\n",
        "\n",
        "\n",
        "    lab = cv2.cvtColor(result, cv2.COLOR_BGR2LAB)\n",
        "    l, a, b = cv2.split(lab)\n",
        "    clahe = cv2.createCLAHE(clipLimit=2.0, tileGridSize=(8, 8))\n",
        "    cl = clahe.apply(l)\n",
        "    enhanced = cv2.merge((cl, a, b))\n",
        "    final = cv2.cvtColor(enhanced, cv2.COLOR_LAB2BGR)\n",
        "\n",
        "    return final\n",
        "\n",
        "\n",
        "folders = [train_path, test_path]\n",
        "count = 0\n",
        "\n",
        "for folder in folders:\n",
        "    for subfolder in os.listdir(folder):\n",
        "        subfolder_path = os.path.join(folder, subfolder)\n",
        "        if os.path.isdir(subfolder_path):\n",
        "            for image_name in tqdm(os.listdir(subfolder_path), desc=f\"Processing {subfolder}\"):\n",
        "                image_path = os.path.join(subfolder_path, image_name)\n",
        "                try:\n",
        "                    preprocessed_img = preprocess_image(image_path)\n",
        "                    save_path = os.path.join(output_path, f\"{subfolder}_{count}.jpg\")\n",
        "                    cv2.imwrite(save_path, preprocessed_img)\n",
        "                    count += 1\n",
        "                except Exception as e:\n",
        "                    print(f\" Error processing {image_path}: {e}\")\n",
        "\n",
        "print(f\"\\n Total {count} preprocessed images saved in {output_path}\")\n"
      ],
      "metadata": {
        "colab": {
          "base_uri": "https://localhost:8080/"
        },
        "id": "t4fQQjIwWbAF",
        "outputId": "ff770a2e-3d2a-4c61-c173-d065c45eb46e"
      },
      "execution_count": null,
      "outputs": [
        {
          "output_type": "stream",
          "name": "stderr",
          "text": [
            "Processing vascular lesion: 100%|██████████| 139/139 [00:06<00:00, 21.82it/s]\n",
            "Processing squamous cell carcinoma: 100%|██████████| 181/181 [00:08<00:00, 20.65it/s]\n",
            "Processing basal cell carcinoma: 100%|██████████| 376/376 [00:19<00:00, 19.04it/s]\n",
            "Processing seborrheic keratosis: 100%|██████████| 77/77 [00:23<00:00,  3.28it/s]\n",
            "Processing pigmented benign keratosis: 100%|██████████| 462/462 [00:24<00:00, 19.00it/s]\n",
            "Processing actinic keratosis: 100%|██████████| 114/114 [00:05<00:00, 22.74it/s]\n",
            "Processing nevus: 100%|██████████| 357/357 [00:22<00:00, 15.92it/s]\n",
            "Processing dermatofibroma: 100%|██████████| 95/95 [00:30<00:00,  3.17it/s]\n",
            "Processing melanoma: 100%|██████████| 438/438 [00:31<00:00, 14.06it/s]\n",
            "Processing actinic keratosis: 100%|██████████| 16/16 [00:04<00:00,  3.29it/s]\n",
            "Processing melanoma: 100%|██████████| 16/16 [00:04<00:00,  3.31it/s]\n",
            "Processing dermatofibroma: 100%|██████████| 16/16 [00:09<00:00,  1.73it/s]\n",
            "Processing pigmented benign keratosis: 100%|██████████| 16/16 [00:04<00:00,  3.40it/s]\n",
            "Processing seborrheic keratosis: 100%|██████████| 3/3 [00:00<00:00,  5.21it/s]\n",
            "Processing vascular lesion: 100%|██████████| 3/3 [00:00<00:00,  3.91it/s]\n",
            "Processing nevus: 100%|██████████| 16/16 [00:04<00:00,  3.89it/s]\n",
            "Processing squamous cell carcinoma: 100%|██████████| 16/16 [00:09<00:00,  1.68it/s]\n",
            "Processing basal cell carcinoma: 100%|██████████| 16/16 [00:05<00:00,  2.68it/s]"
          ]
        },
        {
          "output_type": "stream",
          "name": "stdout",
          "text": [
            "\n",
            "✅ Total 2357 preprocessed images saved in /content/drive/My Drive/SKIN CANCER DATASET/preprocessed_images\n"
          ]
        },
        {
          "output_type": "stream",
          "name": "stderr",
          "text": [
            "\n"
          ]
        }
      ]
    }
  ]
}