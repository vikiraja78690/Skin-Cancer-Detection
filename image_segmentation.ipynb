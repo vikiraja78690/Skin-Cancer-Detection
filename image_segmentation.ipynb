{
  "nbformat": 4,
  "nbformat_minor": 0,
  "metadata": {
    "colab": {
      "provenance": []
    },
    "kernelspec": {
      "name": "python3",
      "display_name": "Python 3"
    },
    "language_info": {
      "name": "python"
    }
  },
  "cells": [
    {
      "cell_type": "code",
      "execution_count": null,
      "metadata": {
        "colab": {
          "base_uri": "https://localhost:8080/"
        },
        "id": "y3ZjS-r4XibP",
        "outputId": "4a60d68e-2488-4d73-95a3-26f0dc5e84a4"
      },
      "outputs": [
        {
          "output_type": "stream",
          "name": "stdout",
          "text": [
            "Mounted at /content/drive\n"
          ]
        }
      ],
      "source": [
        "from google.colab import drive\n",
        "drive.mount('/content/drive')"
      ]
    },
    {
      "cell_type": "code",
      "source": [
        "import cv2\n",
        "import os\n",
        "import numpy as np\n",
        "from tqdm import tqdm\n",
        "\n",
        "\n",
        "input_folder = \"/content/drive/My Drive/SKIN CANCER DATASET/preprocessed_images\"\n",
        "\n",
        "\n",
        "binary_mask_folder = \"/content/drive/My Drive/SKIN CANCER DATASET/segmented_images/binary_masks\"\n",
        "contour_folder = \"/content/drive/My Drive/SKIN CANCER DATASET/segmented_images/contours\"\n",
        "os.makedirs(binary_mask_folder, exist_ok=True)\n",
        "os.makedirs(contour_folder, exist_ok=True)\n",
        "\n",
        "count = 0\n",
        "\n",
        "for filename in tqdm(os.listdir(input_folder), desc=\"Segmenting images\"):\n",
        "    if filename.lower().endswith(('.jpg', '.jpeg', '.png')):\n",
        "        image_path = os.path.join(input_folder, filename)\n",
        "        img = cv2.imread(image_path)\n",
        "        gray = cv2.cvtColor(img, cv2.COLOR_BGR2GRAY)\n",
        "\n",
        "\n",
        "        _, binary = cv2.threshold(gray, 0, 255, cv2.THRESH_BINARY_INV + cv2.THRESH_OTSU)\n",
        "\n",
        "\n",
        "        contours, _ = cv2.findContours(binary, cv2.RETR_EXTERNAL, cv2.CHAIN_APPROX_SIMPLE)\n",
        "        mask = np.zeros_like(binary)\n",
        "\n",
        "        if contours:\n",
        "            largest_contour = max(contours, key=cv2.contourArea)\n",
        "            cv2.drawContours(mask, [largest_contour], -1, 255, -1)\n",
        "\n",
        "\n",
        "            contour_img = img.copy()\n",
        "            cv2.drawContours(contour_img, [largest_contour], -1, (0, 255, 0), 2)\n",
        "\n",
        "\n",
        "            mask_path = os.path.join(binary_mask_folder, f\"mask_{count}.jpg\")\n",
        "            contour_path = os.path.join(contour_folder, f\"contour_{count}.jpg\")\n",
        "            cv2.imwrite(mask_path, mask)\n",
        "            cv2.imwrite(contour_path, contour_img)\n",
        "            count += 1\n",
        "\n",
        "print(f\"\\n Segmentation complete: {count} masks and contours saved.\")\n"
      ],
      "metadata": {
        "colab": {
          "base_uri": "https://localhost:8080/"
        },
        "id": "juorEfKVYXRN",
        "outputId": "76711b0d-1c99-4da8-d0e7-adeb46374b41"
      },
      "execution_count": null,
      "outputs": [
        {
          "output_type": "stream",
          "name": "stderr",
          "text": [
            "Segmenting images: 100%|██████████| 2357/2357 [01:35<00:00, 24.73it/s]"
          ]
        },
        {
          "output_type": "stream",
          "name": "stdout",
          "text": [
            "\n",
            "✅ Segmentation complete: 2357 masks and contours saved.\n"
          ]
        },
        {
          "output_type": "stream",
          "name": "stderr",
          "text": [
            "\n"
          ]
        }
      ]
    }
  ]
}